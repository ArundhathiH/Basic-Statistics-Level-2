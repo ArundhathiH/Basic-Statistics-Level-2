{
 "cells": [
  {
   "cell_type": "code",
   "execution_count": 1,
   "id": "d49880a3",
   "metadata": {},
   "outputs": [],
   "source": [
    "import numpy as np \n",
    "from scipy import stats \n",
    "from scipy.stats import norm "
   ]
  },
  {
   "cell_type": "code",
   "execution_count": 7,
   "id": "f7c501f1",
   "metadata": {},
   "outputs": [
    {
     "name": "stdout",
     "output_type": "stream",
     "text": [
      "Mean Profit is Rs 540 Million \n"
     ]
    }
   ],
   "source": [
    "# Mean profits from two different dividions of a company = Mean1 + Mean 2 \n",
    "mean =5+7\n",
    "print (f'Mean Profit is Rs {mean* 45} Million ')"
   ]
  },
  {
   "cell_type": "code",
   "execution_count": 9,
   "id": "73019478",
   "metadata": {},
   "outputs": [
    {
     "name": "stdout",
     "output_type": "stream",
     "text": [
      "Standard Deviationn is Rs. 225.0  Millions \n"
     ]
    }
   ],
   "source": [
    "# Variance of profits from two different divisions of a company = SD^2 = SD1^2 + SD2^2\n",
    "std=np.sqrt((9+16))\n",
    "print('Standard Deviationn is Rs.', std* 45 , ' Millions ')"
   ]
  },
  {
   "cell_type": "code",
   "execution_count": 10,
   "id": "3608f834",
   "metadata": {},
   "outputs": [
    {
     "name": "stdout",
     "output_type": "stream",
     "text": [
      "Range is (99.00810347848784, 980.9918965215122) in Millions\n"
     ]
    }
   ],
   "source": [
    "# A. Specify a Rupee range 9 Centered in the mean such that it it contains 95% probability for the annual profit of the company.\n",
    "print('Range is',(stats.norm.interval(0.95,540,225)),'in Millions')"
   ]
  },
  {
   "cell_type": "code",
   "execution_count": 15,
   "id": "e526e160",
   "metadata": {},
   "outputs": [
    {
     "name": "stdout",
     "output_type": "stream",
     "text": [
      "5th percentile of profit (in Million Rupees) is 170.0\n"
     ]
    }
   ],
   "source": [
    "#B.Specify the 5th percentile of profit (in Rupees) for the company.\n",
    "# To compute 5th Percentile, we use the formula X=(μ + Z)*σ; wherein from z table, 5th percentile = -1.645\n",
    "X=540+(-1.645)*(225)\n",
    "print('5th percentile of profit (in Million Rupees) is' ,np.round(X,))"
   ]
  },
  {
   "cell_type": "code",
   "execution_count": 13,
   "id": "92a3d2cb",
   "metadata": {},
   "outputs": [],
   "source": [
    "#C.Which of the two divisions has a larger probability of making a loss in a given year?"
   ]
  },
  {
   "cell_type": "code",
   "execution_count": 16,
   "id": "a0c2fd19",
   "metadata": {},
   "outputs": [
    {
     "data": {
      "text/plain": [
       "0.048"
      ]
     },
     "execution_count": 16,
     "metadata": {},
     "output_type": "execute_result"
    }
   ],
   "source": [
    "# Probability of division 1 making a loss P(X<0)\n",
    "stats.norm.cdf(0,5,3).round(3)"
   ]
  },
  {
   "cell_type": "code",
   "execution_count": 19,
   "id": "0b3df815",
   "metadata": {},
   "outputs": [
    {
     "data": {
      "text/plain": [
       "0.04"
      ]
     },
     "execution_count": 19,
     "metadata": {},
     "output_type": "execute_result"
    }
   ],
   "source": [
    "#Probability of Division 2 making a loss P(X<0)\n",
    "stats.norm.cdf(0,7,4).round(3)"
   ]
  },
  {
   "cell_type": "code",
   "execution_count": null,
   "id": "347ef0ef",
   "metadata": {},
   "outputs": [],
   "source": []
  }
 ],
 "metadata": {
  "kernelspec": {
   "display_name": "Python 3 (ipykernel)",
   "language": "python",
   "name": "python3"
  },
  "language_info": {
   "codemirror_mode": {
    "name": "ipython",
    "version": 3
   },
   "file_extension": ".py",
   "mimetype": "text/x-python",
   "name": "python",
   "nbconvert_exporter": "python",
   "pygments_lexer": "ipython3",
   "version": "3.9.12"
  }
 },
 "nbformat": 4,
 "nbformat_minor": 5
}
